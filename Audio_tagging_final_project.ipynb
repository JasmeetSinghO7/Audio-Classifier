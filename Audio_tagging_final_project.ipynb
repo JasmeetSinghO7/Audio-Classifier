{
 "cells": [
  {
   "cell_type": "code",
   "execution_count": null,
   "metadata": {},
   "outputs": [],
   "source": [
    "import librosa\n",
    "import pandas as pd\n",
    "import numpy as np\n",
    "import matplotlib.pyplot as plt\n",
    "%matplotlib inline\n",
    "import os\n",
    "from PIL import Image\n",
    "import pathlib\n",
    "import csv\n",
    "from sklearn.model_selection import train_test_split\n",
    "from sklearn.preprocessing import LabelEncoder, StandardScaler\n",
    "from sklearn.decomposition import PCA\n",
    "import keras\n",
    "from keras import layers\n",
    "\n",
    "from keras import regularizers\n",
    "\n",
    "from keras.layers import  Dropout, Flatten, MaxPooling2D, Bidirectional, CuDNNLSTM\n",
    "from keras import regularizers\n",
    "from keras.models import Sequential\n",
    "import warnings\n",
    "warnings.filterwarnings('ignore')"
   ]
  },
  {
   "cell_type": "code",
   "execution_count": null,
   "metadata": {},
   "outputs": [],
   "source": [
    "train = pd.read_csv(r'D:\\Jassi\\freesound-audio-tagging/train.csv')\n",
    "label = train['label'].unique()"
   ]
  },
  {
   "cell_type": "code",
   "execution_count": null,
   "metadata": {},
   "outputs": [],
   "source": [
    "names = train.groupby('label')['fname']\n",
    "names "
   ]
  },
  {
   "cell_type": "code",
   "execution_count": null,
   "metadata": {},
   "outputs": [],
   "source": [
    "#from one directory to labeled directory audio files\n",
    "import pathlib \n",
    "import os \n",
    "import shutil \n",
    "\n",
    "filename =   list(label)\n",
    "\n",
    "for i in filename:\n",
    "    pathlib.Path(f\"/content/drive/My Drive/Data/freesound-audio-tagging/audio_train_labeled/{i}/\").mkdir(parents=True, exist_ok=True)\n",
    "    os.listdir(f\"/content/drive/My Drive/Data/freesound-audio-tagging/audio_train/\")\n",
    "    for y in names.get_group(i):\n",
    "        shutil.move( f\"/content/drive/My Drive/Data/freesound-audio-tagging/audio_train/{y}\" , f\"/content/drive/My Drive/Data/freesound-audio-tagging/audio_train_labeled/{i}/\")\n",
    "\n"
   ]
  },
  {
   "cell_type": "code",
   "execution_count": null,
   "metadata": {},
   "outputs": [],
   "source": [
    "#diff directory img data\n",
    "#create image files\n",
    "cmap = plt.get_cmap('inferno')\n",
    "plt.figure(figsize=(8,8))\n",
    "filename =   list(label)\n",
    "for i in filename:\n",
    "    pathlib.Path(f'D:\\Jassi/freesound-audio-tagging/freesound_img_data/{i}').mkdir(parents=True, exist_ok=True)\n",
    "    for files in os.listdir(f'D:\\Jassi/freesound-audio-tagging/audio_train_labeled/{i}'):\n",
    "        songname = f'D:\\Jassi/freesound-audio-tagging/audio_train_labeled/{i}/{files}'\n",
    "        y, sr = librosa.load(songname, mono=True, duration=5)\n",
    "        plt.specgram(y, NFFT=2048, Fs=2, Fc=0, noverlap=128, cmap=cmap, sides='default', mode='default', scale='dB');\n",
    "        plt.axis('off');\n",
    "        plt.savefig(f'D:\\Jassi/freesound-audio-tagging/freesound_img_data/{i}/{files[:-3].replace(\".\", \"\")}.png')\n",
    "        plt.clf()"
   ]
  },
  {
   "cell_type": "code",
   "execution_count": null,
   "metadata": {},
   "outputs": [],
   "source": [
    "#same directory\n",
    "#create image files\n",
    "cmap = plt.get_cmap('inferno')\n",
    "plt.figure(figsize=(8,8))\n",
    "filename =   list(label)\n",
    "\n",
    "pathlib.Path(f'D:\\Jassi/freesound-audio-tagging/freesound_img_data_2/').mkdir(parents=True, exist_ok=True)\n",
    "for files in os.listdir(f'D:\\Jassi/freesound-audio-tagging/audio_train/'):\n",
    "    songname = f'D:\\Jassi/freesound-audio-tagging/audio_train/{files}'\n",
    "    y, sr = librosa.load(songname, mono=True, duration=5)\n",
    "    plt.specgram(y, NFFT=2048, Fs=2, Fc=0, noverlap=128, cmap=cmap, sides='default', mode='default', scale='dB');\n",
    "    plt.axis('off');\n",
    "    plt.savefig(f'D:\\Jassi/freesound-audio-tagging/freesound_img_data_2/{files[:-3].replace(\".\", \"\")}.png')\n",
    "    plt.clf()"
   ]
  },
  {
   "cell_type": "code",
   "execution_count": null,
   "metadata": {},
   "outputs": [],
   "source": []
  },
  {
   "cell_type": "code",
   "execution_count": null,
   "metadata": {},
   "outputs": [],
   "source": [
    "header = 'filename chroma_stft rmse spectral_centroid spectral_bandwidth rolloff zero_crossing_rate nframes'\n",
    "for i in range(1, 21):\n",
    "    header += f' mfcc{i}'\n",
    "header += ' label'\n",
    "header = header.split()"
   ]
  },
  {
   "cell_type": "code",
   "execution_count": null,
   "metadata": {},
   "outputs": [],
   "source": [
    "#for data in diff directory\n",
    "#create csv file and add features to it\n",
    "file = open(r'D:\\Jassi\\freesound-audio-tagging\\dataset.csv', 'w', newline='')\n",
    "with file:\n",
    "    writer = csv.writer(file)\n",
    "    writer.writerow(header)\n",
    "filename =   list(label)\n",
    "for i in filename:\n",
    "    for files in os.listdir(f'D:/Jassi/freesound-audio-tagging/audio_train_labeled/{i}'):\n",
    "        songname = f'D:/Jassi/freesound-audio-tagging/audio_train_labeled/{i}/{files}'\n",
    "        y, sr = librosa.load(songname, mono=True, duration=30)\n",
    "        rmse = librosa.feature.rms(y=y)\n",
    "        chroma_stft = librosa.feature.chroma_stft(y=y, sr=sr)\n",
    "        spec_cent = librosa.feature.spectral_centroid(y=y, sr=sr)\n",
    "        spec_bw = librosa.feature.spectral_bandwidth(y=y, sr=sr)\n",
    "        rolloff = librosa.feature.spectral_rolloff(y=y, sr=sr)\n",
    "        zcr = librosa.feature.zero_crossing_rate(y)\n",
    "        mfcc = librosa.feature.mfcc(y=y, sr=sr)\n",
    "        to_append = f'{files} {np.mean(chroma_stft)} {np.mean(rmse)} {np.mean(spec_cent)} {np.mean(spec_bw)} {np.mean(rolloff)} {np.mean(zcr)}'    \n",
    "        for e in mfcc:\n",
    "            to_append += f' {np.mean(e)}'\n",
    "        to_append += f' {i}'\n",
    "        file = open(f\"D:/Jassi/freesound-audio-tagging/dataset.csv\", 'a', newline='')\n",
    "        with file:\n",
    "            writer = csv.writer(file)\n",
    "            writer.writerow(to_append.split())"
   ]
  },
  {
   "cell_type": "code",
   "execution_count": null,
   "metadata": {},
   "outputs": [],
   "source": [
    "#data at same directory\n",
    "#create csv file and add more features to it\n",
    "file = open(r'D:\\Jassi\\freesound-audio-tagging\\dataset2.csv', 'w', newline='')\n",
    "with file:\n",
    "    writer = csv.writer(file)\n",
    "    writer.writerow(header)\n",
    "\n",
    "for files in os.listdir(f'D:/Jassi/freesound-audio-tagging/audio_train/'):\n",
    "    songname = f'D:/Jassi/freesound-audio-tagging/audio_train/{files}'\n",
    "    y, sr = librosa.load(songname, mono=True, duration=30)\n",
    "    rmse = librosa.feature.rms(y=y)\n",
    "    chroma_stft = librosa.feature.chroma_stft(y=y, sr=sr)\n",
    "    spec_cent = librosa.feature.spectral_centroid(y=y, sr=sr)\n",
    "    spec_bw = librosa.feature.spectral_bandwidth(y=y, sr=sr)\n",
    "    rolloff = librosa.feature.spectral_rolloff(y=y, sr=sr)\n",
    "    zcr = librosa.feature.zero_crossing_rate(y)\n",
    "    mfcc = librosa.feature.mfcc(y=y, sr=sr)\n",
    "       \n",
    "    import wave\n",
    "    nframes = librosa.util.frame(y)\n",
    "        \n",
    "    to_append = f'{files} {np.mean(chroma_stft)} {np.mean(rmse)} {np.mean(spec_cent)} {np.mean(spec_bw)} {np.mean(rolloff)} {np.mean(zcr)} {np.mean(nframes)}'    \n",
    "    for e in mfcc:\n",
    "        to_append += f' {np.mean(e)}'\n",
    "    file = open(f\"D:/Jassi/freesound-audio-tagging/dataset2.csv\", 'a', newline='')\n",
    "    with file:\n",
    "        writer = csv.writer(file)\n",
    "        writer.writerow(to_append.split())\n"
   ]
  },
  {
   "cell_type": "code",
   "execution_count": null,
   "metadata": {},
   "outputs": [],
   "source": []
  },
  {
   "cell_type": "code",
   "execution_count": null,
   "metadata": {},
   "outputs": [],
   "source": []
  },
  {
   "cell_type": "code",
   "execution_count": null,
   "metadata": {},
   "outputs": [],
   "source": []
  },
  {
   "cell_type": "code",
   "execution_count": null,
   "metadata": {},
   "outputs": [],
   "source": []
  },
  {
   "cell_type": "code",
   "execution_count": null,
   "metadata": {},
   "outputs": [],
   "source": [
    "df = pd.DataFrame(train.iloc[:, -2])\n",
    "df"
   ]
  },
  {
   "cell_type": "code",
   "execution_count": null,
   "metadata": {},
   "outputs": [],
   "source": [
    "df1 = pd.read_csv(f'D:/Jassi/freesound-audio-tagging/dataset2 - Copy.csv')\n",
    "df1 = df1.drop(['label'],axis=1)\n",
    "df1"
   ]
  },
  {
   "cell_type": "code",
   "execution_count": null,
   "metadata": {},
   "outputs": [],
   "source": [
    "data = df1.join(df)\n",
    "data.to_csv(f'D:/Jassi/freesound-audio-tagging/train_new.csv', index=False)"
   ]
  },
  {
   "cell_type": "code",
   "execution_count": null,
   "metadata": {},
   "outputs": [],
   "source": []
  },
  {
   "cell_type": "code",
   "execution_count": null,
   "metadata": {},
   "outputs": [],
   "source": []
  },
  {
   "cell_type": "code",
   "execution_count": null,
   "metadata": {},
   "outputs": [],
   "source": [
    "data = pd.read_csv(r'D:\\Jassi\\freesound-audio-tagging\\train_new.csv')\n",
    "data['label_id'] = data['label'].factorize()[0]\n",
    "label_id_data = data[['label', 'label_id']].drop_duplicates().sort_values('label_id')\n",
    "label_to_id = dict(label_id_data.values)\n",
    "id_to_label = dict(label_id_data[['label_id', 'label']].values)\n",
    "# Dropping unneccesary columns\n",
    "data = data.drop(['filename'],axis=1)\n",
    "data = data.drop(['label'],axis=1)\n",
    "#Encoding the Labels\n",
    "genre_list = data.iloc[:, -1]\n",
    "encoder = LabelEncoder()\n",
    "y = encoder.fit_transform(genre_list)\n",
    "#Scaling the Feature columns\n",
    "scaler = StandardScaler()\n",
    "X = scaler.fit_transform(np.array(data.iloc[:, :-1], dtype = float))\n",
    "#Dividing data into training and Testing set\n",
    "#X_train, X_test, y_train, y_test = train_test_split(X, y, test_size=0.01)"
   ]
  },
  {
   "cell_type": "code",
   "execution_count": null,
   "metadata": {},
   "outputs": [],
   "source": [
    "X_train, X_test, y_train, y_test = train_test_split(X, y, test_size=0.2, random_state=1)\n",
    "\n",
    "X_train, X_val, y_train, y_val = train_test_split(X_train, y_train, test_size=0.2, random_state=1)\n"
   ]
  },
  {
   "cell_type": "code",
   "execution_count": null,
   "metadata": {},
   "outputs": [],
   "source": [
    "from keras.optimizers import SGD\n",
    "epochs = 200\n",
    "batch_size = 64\n",
    "learning_rate = 0.01\n",
    "decay_rate = learning_rate / epochs\n",
    "momentum = 0.99\n",
    "sgd = SGD(lr=learning_rate, momentum=momentum, decay=decay_rate, nesterov=False)"
   ]
  },
  {
   "cell_type": "code",
   "execution_count": null,
   "metadata": {},
   "outputs": [],
   "source": [
    "model = Sequential()\n",
    "model.add(layers.Dense(128, activation='relu', input_shape=(X_train.shape[1],),kernel_regularizer=regularizers.l1_l2(l1=0.001, l2=0.001),bias_regularizer=regularizers.l2(0.001)))\n",
    "model.add(layers.BatchNormalization())\n",
    "model.add(Dropout(rate=0.5))\n",
    "\n",
    "model.add(layers.Dense(64, activation='sigmoid', input_shape=(X_train.shape[1],),kernel_regularizer=regularizers.l1_l2(l1=0.001, l2=0.001),bias_regularizer=regularizers.l2(0.001)))\n",
    "model.add(layers.BatchNormalization())\n",
    "model.add(Dropout(rate=0.5))\n",
    "\n",
    "model.add(layers.Dense(41, activation='softmax',kernel_regularizer=regularizers.l1_l2(l1=0.001, l2=0.001),bias_regularizer=regularizers.l2(0.001)))\n",
    "model.compile(optimizer='sgd',\n",
    "              loss='sparse_categorical_crossentropy',\n",
    "              metrics=['accuracy'])"
   ]
  },
  {
   "cell_type": "code",
   "execution_count": null,
   "metadata": {
    "scrolled": true
   },
   "outputs": [],
   "source": [
    "classifier = model.fit(X_train,\n",
    "                    y_train,\n",
    "                    epochs=epochs,\n",
    "                    validation_data=(X_val,y_val),\n",
    "                    batch_size=batch_size)"
   ]
  },
  {
   "cell_type": "code",
   "execution_count": null,
   "metadata": {},
   "outputs": [],
   "source": [
    "### print(classifier.history.keys())\n",
    "#  \"Accuracy\"\n",
    "plt.plot(classifier.history['accuracy'])\n",
    "plt.plot(classifier.history['val_accuracy'])\n",
    "plt.title('model accuracy')\n",
    "plt.ylabel('accuracy')\n",
    "plt.xlabel('epoch')\n",
    "plt.legend(['train', 'validation'], loc='upper left')\n",
    "plt.show()\n",
    "# \"Loss\"\n",
    "plt.plot(classifier.history['loss'])\n",
    "plt.plot(classifier.history['val_loss'])\n",
    "plt.title('model loss')\n",
    "plt.ylabel('loss')\n",
    "plt.xlabel('epoch')\n",
    "plt.legend(['train', 'validation'], loc='upper left')\n",
    "plt.show()"
   ]
  },
  {
   "cell_type": "code",
   "execution_count": null,
   "metadata": {},
   "outputs": [],
   "source": [
    "# serialize model to JSON\n",
    "model_json = model.to_json()\n",
    "with open(\"D:\\Jassi\\freesound-audio-tagging\\Audio_600_json.json\", \"w\") as json_file:\n",
    "    json_file.write(model_json)\n",
    "\n",
    "model.save_weights('D:\\Jassi\\freesound-audio-tagging\\Audio_600_weights.h5')\n",
    "\n",
    "model.save('D:\\Jassi\\freesound-audio-tagging\\Audio_600_model.h5')"
   ]
  },
  {
   "cell_type": "code",
   "execution_count": null,
   "metadata": {},
   "outputs": [],
   "source": [
    "#tf.keras.utils.plot_model(\n",
    "#    model,\n",
    "#    to_file=\"model.png\",\n",
    "#    show_shapes=False,\n",
    "#    show_layer_names=True,\n",
    "#    rankdir=\"TB\",\n",
    "#    expand_nested=False,\n",
    "#    dpi=96,\n",
    "#)"
   ]
  },
  {
   "cell_type": "code",
   "execution_count": null,
   "metadata": {},
   "outputs": [],
   "source": [
    "prediction = model.predict(X_test)"
   ]
  },
  {
   "cell_type": "code",
   "execution_count": null,
   "metadata": {},
   "outputs": [],
   "source": [
    "from sklearn.metrics import confusion_matrix\n",
    "import seaborn as sns\n",
    "from matplotlib import pyplot\n",
    "fig, ax = pyplot.subplots(figsize=(15,15))\n",
    "conf_mat = confusion_matrix(y_test, prediction.argmax(axis=1))\n",
    "sns.heatmap(conf_mat, annot=True, fmt='d',ax=ax,\n",
    "            xticklabels=label_id_data.label.values, yticklabels=label_id_data.label.values)\n",
    "plt.ylabel('Actual')\n",
    "plt.xlabel('Predicted')"
   ]
  },
  {
   "cell_type": "code",
   "execution_count": null,
   "metadata": {},
   "outputs": [],
   "source": [
    "from sklearn.metrics import accuracy_score\n",
    "print(accuracy_score(y_test, prediction.argmax(axis=1))) "
   ]
  },
  {
   "cell_type": "code",
   "execution_count": null,
   "metadata": {},
   "outputs": [],
   "source": [
    "#practical use\n",
    "filename = f'D:/Jassi/freesound-audio-tagging/audio_test/00326aa9.wav'\n",
    "y, sr = librosa.load(filename, mono=True, duration=30)"
   ]
  },
  {
   "cell_type": "code",
   "execution_count": null,
   "metadata": {},
   "outputs": [],
   "source": [
    "rmse = librosa.feature.rms(y=y)\n",
    "chroma_stft = librosa.feature.chroma_stft(y=y, sr=sr)\n",
    "spec_cent = librosa.feature.spectral_centroid(y=y, sr=sr)\n",
    "spec_bw = librosa.feature.spectral_bandwidth(y=y, sr=sr)\n",
    "rolloff = librosa.feature.spectral_rolloff(y=y, sr=sr)\n",
    "zcr = librosa.feature.zero_crossing_rate(y)\n",
    "mfcc = librosa.feature.mfcc(y=y, sr=sr)\n",
    "import wave\n",
    "nframes = librosa.util.frame(y)\n",
    "\n",
    "\n",
    "to_append = f'{filename} {np.mean(chroma_stft)} {np.mean(rmse)} {np.mean(spec_cent)} {np.mean(spec_bw)} {np.mean(rolloff)} {np.mean(zcr)} {np.mean(nframes)}'\n",
    "sample = np.array([np.mean(chroma_stft), np.mean(rmse), np.mean(spec_cent), \n",
    "                     np.mean(spec_bw), np.mean(rolloff), np.mean(zcr), np.mean(nframes)])\n",
    "\n",
    "\n",
    "for e in mfcc:\n",
    "    np.mean(e)\n",
    "sample = np.concatenate((sample, e))"
   ]
  },
  {
   "cell_type": "code",
   "execution_count": null,
   "metadata": {},
   "outputs": [],
   "source": [
    "sample = sample[:27]\n",
    "sample = sample.reshape(1,27)\n",
    "sample.shape #(1, 27)"
   ]
  },
  {
   "cell_type": "code",
   "execution_count": null,
   "metadata": {},
   "outputs": [],
   "source": [
    "pred = model.predict(sample)"
   ]
  },
  {
   "cell_type": "code",
   "execution_count": null,
   "metadata": {},
   "outputs": [],
   "source": [
    "import ntpath\n",
    "for i, predicted in zip(sample, pred.argmax(axis=1)):\n",
    "    file_name = ntpath.basename(filename)\n",
    "    print(file_name)\n",
    "    print(\"  - Predicted as: '{}'\".format(id_to_label[predicted]))\n",
    "    "
   ]
  },
  {
   "cell_type": "code",
   "execution_count": null,
   "metadata": {},
   "outputs": [],
   "source": [
    "import IPython.display as ipd  # To play sound in the notebook\n",
    "ipd.Audio(filename)"
   ]
  },
  {
   "cell_type": "code",
   "execution_count": null,
   "metadata": {},
   "outputs": [],
   "source": []
  },
  {
   "cell_type": "markdown",
   "metadata": {},
   "source": [
    "PART-2"
   ]
  },
  {
   "cell_type": "code",
   "execution_count": null,
   "metadata": {},
   "outputs": [],
   "source": [
    "import pandas as pd\n",
    "import numpy as np\n",
    "from numpy import argmax\n",
    "import matplotlib.pyplot as plt\n",
    "%matplotlib inline\n",
    "import librosa\n",
    "import librosa.display\n",
    "import IPython.display\n",
    "import random\n",
    "import warnings\n",
    "import os\n",
    "from PIL import Image\n",
    "import pathlib\n",
    "from pathlib import Path\n",
    "import csv\n",
    "# sklearn Preprocessing\n",
    "from sklearn.model_selection import train_test_split\n",
    "#Keras\n",
    "import keras\n",
    "import warnings\n",
    "warnings.filterwarnings('ignore')\n",
    "from keras import layers\n",
    "from keras.layers import Activation, Dense, Dropout,LSTM,TimeDistributed,Bidirectional, Conv1D, Conv2D,Lambda, GRU, BatchNormalization, Flatten,MaxPooling1D, MaxPooling2D, GlobalMaxPooling2D, Input, Add\n",
    "from keras.models import Sequential\n",
    "from keras.optimizers import SGD\n",
    "from keras.activations import relu, softmax\n",
    "from keras import losses, models, optimizers"
   ]
  },
  {
   "cell_type": "code",
   "execution_count": null,
   "metadata": {},
   "outputs": [],
   "source": [
    "import split_folders\n",
    "#To only split into training and validation set, set a tuple to `ratio`, i.e, `(.8, .2)`.\n",
    "split_folders.ratio(f'D:/Jassi/freesound-audio-tagging/freesound_img_data', output=f\"D:/Jassi/freesound-audio-tagging/data\", seed=1337, ratio=(.8, .2)) # default values"
   ]
  },
  {
   "cell_type": "code",
   "execution_count": null,
   "metadata": {},
   "outputs": [],
   "source": [
    "paths_all_labels = []\n",
    "for files in os.listdir(f'D:/Jassi/freesound-audio-tagging/audio_train_labeled'):\n",
    "    for i in os.listdir(f'D:/Jassi/freesound-audio-tagging/audio_train_labeled/{files}'):\n",
    "        data_dir = f'D:/Jassi/freesound-audio-tagging/audio_train_labeled/{files}/'\n",
    "        paths_all_labels += [[data_dir+i] + [files]]\n",
    "#give output (pth of audio file, label)"
   ]
  },
  {
   "cell_type": "code",
   "execution_count": null,
   "metadata": {},
   "outputs": [],
   "source": [
    "#def load_and_preprocess_lstm(dataset, SAMPLE_SIZE = 30):\n",
    "#    IMG_SIZE = (216,128) \n",
    "#    progress=0\n",
    "\n",
    "#    data = []\n",
    "#    labels = []\n",
    "#    for (path, label) in dataset:\n",
    "#        audio, sr = librosa.load(path)\n",
    "#        dur = librosa.get_duration(audio, sr = sr)\n",
    "#        sampleNum = int(dur / SAMPLE_SIZE)\n",
    "#        offset = (dur % SAMPLE_SIZE) / 2\n",
    "#        for i in range(sampleNum):\n",
    "#            audio, sr = librosa.load(path, offset= offset+i, duration=SAMPLE_SIZE)\n",
    "##            sample = librosa.feature.melspectrogram(audio, sr=sr)\n",
    "#           # print(sample.shape)\n",
    "#            sample = cv2.resize(sample, dsize=IMG_SIZE)\n",
    "#            data += [(sample, label)]\n",
    "#            labels += [label]\n",
    "#        progress +=1\n",
    "#        print('\\r Progress: '+str(round(100*progress/len(dataset))) + '%', end='')\n",
    "#   return data, labels"
   ]
  },
  {
   "cell_type": "code",
   "execution_count": null,
   "metadata": {},
   "outputs": [],
   "source": [
    "from keras.preprocessing.image import ImageDataGenerator\n",
    "train_datagen = ImageDataGenerator(\n",
    "        rescale=1./255, # rescale all pixel values from 0-255, so aftre this step all our pixel values are in range (0,1)\n",
    "        shear_range=0.2, #to apply some random tranfromations\n",
    "        zoom_range=0.2, #to apply zoom\n",
    "        horizontal_flip=True) # image will be flipper horiz\n",
    "test_datagen = ImageDataGenerator(rescale=1./255)"
   ]
  },
  {
   "cell_type": "code",
   "execution_count": null,
   "metadata": {},
   "outputs": [],
   "source": [
    "training_set = train_datagen.flow_from_directory(\n",
    "        'D:/Jassi/freesound-audio-tagging/data/train',\n",
    "        target_size=(64, 64),\n",
    "        batch_size=64,\n",
    "        class_mode='categorical',\n",
    "        shuffle = False)\n",
    "test_set = test_datagen.flow_from_directory(\n",
    "        'D:/Jassi/freesound-audio-tagging/data/val',\n",
    "        target_size=(64, 64),\n",
    "        batch_size=64,\n",
    "        class_mode='categorical',\n",
    "        shuffle = False )"
   ]
  },
  {
   "cell_type": "code",
   "execution_count": null,
   "metadata": {},
   "outputs": [],
   "source": [
    "\n",
    "\n",
    "#pre_trained_model = keras.applications.VGG19(include_top=False, weights='imagenet', input_tensor=None,\n",
    "#                                              input_shape=(64, 64, 3))\n",
    "\n",
    "#for layer in pre_trained_model.layers:\n",
    "#    layer.trainable=False\n",
    "#\n",
    "#last_layer = pre_trained_model.get_layer('block5_pool')\n",
    "#last_output = last_layer.output\n",
    "#inp = Input(shape=(64,64,3))\n",
    "#x = Conv2D(64, 9, activation=relu, padding=\"same\")(last_output)\n",
    "#x = Conv2D(64, 9, activation=relu, padding=\"same\")(x)\n",
    "#x = MaxPooling2D(64,padding='SAME')(x)\n",
    "#x = Conv2D(128, 9, activation=relu, padding=\"same\")(x)\n",
    "#x = Conv2D(128, 9, activation=relu, padding=\"same\")(x)\n",
    "#x = MaxPooling2D(128,padding='SAME')(x)\n",
    "#x = Conv2D(256, 9, activation=relu, padding=\"same\")(x)\n",
    "#x = Conv2D(256, 9, activation=relu, padding=\"same\")(x)\n",
    "#x = Conv2D(256, 9, activation=relu, padding=\"same\")(x)\n",
    "#x = MaxPooling2D(256,padding='SAME')(x)\n",
    "#x = Conv2D(512, 9, activation=relu, padding=\"same\")(x)\n",
    "#x = Conv2D(512, 9, activation=relu, padding=\"same\")(x)\n",
    "#x = MaxPooling2D(512,padding='SAME')(x)\n",
    "#x = Conv2D(16, 9, activation=relu, padding=\"same\")(x)\n",
    "#x = Conv2D(16, 9, activation=relu, padding=\"same\")(x)\n",
    "#x = MaxPooling2D(16,padding='SAME')(x)\n",
    "#x = Dropout(rate=0.1)(x)\n",
    "#x = Conv2D(32, 3, activation=relu, padding=\"same\")(x)\n",
    "#x = Conv2D(32, 3, activation=relu, padding=\"same\")(x)\n",
    "##x = GlobalMaxPooling2D()(x)\n",
    "#x = Dropout(rate=0.1)(x)\n",
    "#x = Flatten()(x)\n",
    "#x = Dense(64, activation=relu)(x)\n",
    "#x = Dense(1028, activation=relu)(x)\n",
    "#out = Dense(41, activation=softmax)(x)\n",
    "#model = models.Model(inputs=pre_trained_model.input, outputs=out)\n",
    "#model.summary()"
   ]
  },
  {
   "cell_type": "code",
   "execution_count": null,
   "metadata": {},
   "outputs": [],
   "source": [
    "from keras import regularizers\n",
    "pre_trained_model = keras.applications.VGG19(include_top=False, weights='imagenet', input_tensor=None,\n",
    "                                              input_shape=(64, 64, 3))\n",
    "\n",
    "for layer in pre_trained_model.layers:\n",
    "    layer.trainable=False\n",
    "\n",
    "last_layer = pre_trained_model.get_layer('block5_pool')\n",
    "last_output = last_layer.output\n",
    "inp = Input(shape=(64,64,3))\n",
    "x = Sequential()\n",
    "x = TimeDistributed(Conv1D(128, 9, activation=relu, padding=\"same\"))(inp)\n",
    "x = TimeDistributed(MaxPooling1D(128,padding='SAME'))(x)\n",
    "x = TimeDistributed(keras.layers.BatchNormalization())(x)\n",
    "x = TimeDistributed(Dropout(rate=0.5))(x)\n",
    "x = TimeDistributed(Conv1D(64, 9, activation=relu, padding=\"same\"))(x)\n",
    "\n",
    "x = TimeDistributed(MaxPooling1D(64,padding='SAME'))(x)\n",
    "x = TimeDistributed(keras.layers.BatchNormalization())(x)\n",
    "x = TimeDistributed(Dropout(rate=0.5))(x)\n",
    "x = TimeDistributed(Conv1D(32, 9, activation=relu, padding=\"same\"))(x)\n",
    "\n",
    "x = TimeDistributed(MaxPooling1D(32,padding='SAME'))(x)\n",
    "x = TimeDistributed(keras.layers.BatchNormalization())(x)\n",
    "x = TimeDistributed(Dropout(rate=0.5))(x)\n",
    "\n",
    "x = TimeDistributed(Flatten())(x)\n",
    "\n",
    "x = Bidirectional(LSTM(units = 512, dropout=0.5, recurrent_dropout=0.3, return_sequences = True))(x)\n",
    "x = Bidirectional(LSTM(units = 64, dropout=0.5, recurrent_dropout=0.3, return_sequences = False))(x)\n",
    "out = Dense(41, activation=softmax)(x)\n",
    "model = models.Model(inputs=inp, outputs=out)\n",
    "model.summary()"
   ]
  },
  {
   "cell_type": "code",
   "execution_count": null,
   "metadata": {},
   "outputs": [],
   "source": [
    "epochs = 200\n",
    "batch_size = 64\n",
    "learning_rate = 1e-6\n",
    "decay_rate = learning_rate / epochs\n",
    "momentum = 0.99\n",
    "sgd = SGD(lr=learning_rate, momentum=momentum, decay=decay_rate, nesterov=False)\n",
    "model.compile(optimizer=\"sgd\", loss=\"categorical_crossentropy\", metrics=['accuracy'])"
   ]
  },
  {
   "cell_type": "code",
   "execution_count": null,
   "metadata": {},
   "outputs": [],
   "source": [
    "from keras.callbacks import ModelCheckpoint, TensorBoard\n",
    "from time import time\n",
    "\n",
    "# checkpoint\n",
    "filepath=\"Audio.best.hdf5\"\n",
    "best_model_checkpoint = ModelCheckpoint(filepath, monitor='val_accuracy', verbose=1, save_best_only=True, mode='max')\n",
    "callbacks_list = [best_model_checkpoint]"
   ]
  },
  {
   "cell_type": "code",
   "execution_count": null,
   "metadata": {},
   "outputs": [],
   "source": [
    "model.fit_generator(\n",
    "        training_set,\n",
    "        steps_per_epoch=25,\n",
    "        epochs=200,\n",
    "        validation_data=test_set,\n",
    "        validation_steps=200,\n",
    "        callbacks=callbacks_list)"
   ]
  },
  {
   "cell_type": "code",
   "execution_count": null,
   "metadata": {},
   "outputs": [],
   "source": [
    "print('Done without batch normalization')"
   ]
  },
  {
   "cell_type": "code",
   "execution_count": null,
   "metadata": {},
   "outputs": [],
   "source": [
    "#Model Evaluation\n",
    "model.evaluate_generator(generator=test_set, steps=50)\n",
    "#OUTPUT\n",
    "#[1.704445120342617, 0.33798882681564246]"
   ]
  },
  {
   "cell_type": "code",
   "execution_count": null,
   "metadata": {},
   "outputs": [],
   "source": [
    "# serialize model to JSON\n",
    "model_json = model.to_json()\n",
    "with open(\"D:\\Jassi\\freesound-audio-tagging\\Audio_json.json\", \"w\") as json_file:\n",
    "    json_file.write(model_json)\n",
    "\n",
    "model.save_weights('D:\\Jassi\\freesound-audio-tagging\\Audio_cnn_weights.h5')\n",
    "\n",
    "model.save('D:\\Jassi\\freesound-audio-tagging\\Audio_cnn_model.h5')"
   ]
  },
  {
   "cell_type": "code",
   "execution_count": null,
   "metadata": {},
   "outputs": [],
   "source": [
    "print('Done')"
   ]
  },
  {
   "cell_type": "code",
   "execution_count": null,
   "metadata": {},
   "outputs": [],
   "source": [
    "import matplotlib.pyplot as plt\n",
    "\n",
    "def plot_graphs(history, string):\n",
    "    plt.plot(history.history[string])\n",
    "    plt.plot(history.history['val_acuracy'+string])\n",
    "    plt.xlabel(\"Epochs\")\n",
    "    plt.ylabel(string)\n",
    "    plt.legend([string, 'val_acuracy'+string])\n",
    "    plt.show()\n",
    "\n",
    "    \n",
    "plot_graphs(model.history, \"accuracy\")\n",
    "plot_graphs(model.history, \"loss\")"
   ]
  },
  {
   "cell_type": "code",
   "execution_count": null,
   "metadata": {},
   "outputs": [],
   "source": [
    "test_set.reset()\n",
    "pred = model.predict_generator(test_set, steps=50, verbose=1)"
   ]
  },
  {
   "cell_type": "code",
   "execution_count": null,
   "metadata": {},
   "outputs": [],
   "source": [
    "predicted_class_indices=np.argmax(pred,axis=1)\n",
    "\n",
    "labels = (training_set.class_indices)\n",
    "labels = dict((v,k) for k,v in labels.items())\n",
    "predictions = [labels[k] for k in predicted_class_indices]\n",
    "predictions = predictions[:210]\n",
    "filenames=test_set.filenames"
   ]
  },
  {
   "cell_type": "code",
   "execution_count": null,
   "metadata": {},
   "outputs": [],
   "source": [
    "print(len(filenames), len(predictions))\n",
    "# (200, 200)"
   ]
  },
  {
   "cell_type": "code",
   "execution_count": null,
   "metadata": {},
   "outputs": [],
   "source": [
    "results=pd.DataFrame({\"Filename\":filenames,\"Predictions\":predictions})\n",
    "results.to_csv(\"prediction_results.csv\",index=False)"
   ]
  },
  {
   "cell_type": "code",
   "execution_count": null,
   "metadata": {},
   "outputs": [],
   "source": []
  },
  {
   "cell_type": "code",
   "execution_count": null,
   "metadata": {},
   "outputs": [],
   "source": [
    "#practical use\n",
    "y, sr = librosa.load(r'D:\\Jassi\\genres\\reggae\\reggae.00007.wav', mono=True, duration=30)\n",
    "plt.specgram(y, NFFT=2048, Fs=2, Fc=0, noverlap=128, cmap=cmap, sides='default', mode='default', scale='dB');\n",
    "plt.axis('off');\n",
    "plt.savefig(f'D:\\Jassi\\img.png')\n",
    "plt.clf()"
   ]
  },
  {
   "cell_type": "code",
   "execution_count": null,
   "metadata": {},
   "outputs": [],
   "source": [
    "img = tf.keras.preprocessing.image.load_img(\n",
    "    r'D:\\Jassi\\img.png', grayscale=False, color_mode='rgb', target_size=((64,64)),\n",
    "    interpolation='nearest')"
   ]
  },
  {
   "cell_type": "code",
   "execution_count": null,
   "metadata": {},
   "outputs": [],
   "source": [
    "img = tf.keras.preprocessing.image.img_to_array(img)\n",
    "img = img.reshape(1,64,64,3)\n",
    "img.shape"
   ]
  },
  {
   "cell_type": "code",
   "execution_count": null,
   "metadata": {},
   "outputs": [],
   "source": [
    "pred = model.predict(img)"
   ]
  },
  {
   "cell_type": "code",
   "execution_count": null,
   "metadata": {},
   "outputs": [],
   "source": [
    "import ntpath\n",
    "file_name = ntpath.basename(\"D:\\Jassi\\genres\\reggae\\reggae.00007.wav\")"
   ]
  },
  {
   "cell_type": "code",
   "execution_count": null,
   "metadata": {},
   "outputs": [],
   "source": [
    "for i, predicted in zip(file_name, pred.argmax(axis=1)):\n",
    "    file_name = ntpath.basename(\"D:\\Jassi\\genres\\reggae\\reggae.00007.wav\")\n",
    "    print(file_name)\n",
    "    print(\"  - Predicted as: '{}'\".format(id_to_label[predicted]))"
   ]
  },
  {
   "cell_type": "code",
   "execution_count": null,
   "metadata": {},
   "outputs": [],
   "source": []
  },
  {
   "cell_type": "code",
   "execution_count": null,
   "metadata": {},
   "outputs": [],
   "source": []
  }
 ],
 "metadata": {
  "kernelspec": {
   "display_name": "Python 3",
   "language": "python",
   "name": "python3"
  },
  "language_info": {
   "codemirror_mode": {
    "name": "ipython",
    "version": 3
   },
   "file_extension": ".py",
   "mimetype": "text/x-python",
   "name": "python",
   "nbconvert_exporter": "python",
   "pygments_lexer": "ipython3",
   "version": "3.7.7"
  }
 },
 "nbformat": 4,
 "nbformat_minor": 4
}
